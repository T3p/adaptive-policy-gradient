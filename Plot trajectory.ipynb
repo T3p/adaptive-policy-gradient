{
 "cells": [
  {
   "cell_type": "code",
   "execution_count": 1,
   "metadata": {},
   "outputs": [],
   "source": [
    "import numpy as np\n",
    "import matplotlib.pyplot as plt\n",
    "import seaborn as sns\n",
    "import glob\n",
    "import os\n",
    "import pandas as pd\n",
    "import collections\n",
    "import lqg1d\n",
    "import json\n",
    "\n",
    "import numba"
   ]
  },
  {
   "cell_type": "code",
   "execution_count": null,
   "metadata": {},
   "outputs": [],
   "source": []
  },
  {
   "cell_type": "code",
   "execution_count": 2,
   "metadata": {},
   "outputs": [],
   "source": [
    "COL_T = 0\n",
    "COL_J = 1\n",
    "COL_THETA = 2\n",
    "COL_SIGMA = 3\n",
    "COL_GRAD_K = 4\n",
    "COL_GRAD_SIGMA = 5\n",
    "COL_GRAD_MIXED = 6"
   ]
  },
  {
   "cell_type": "markdown",
   "metadata": {},
   "source": [
    "### Experiment types\n",
    "0. : ONLY_THETA\n",
    "1. : THETA_AND_SIGMA\n",
    "2. : THETA_AND_MIXED\n",
    "3. : LOCAL_STEP_LENGTH\n",
    "4. : FAR_SIGHTED_STEP\n",
    "5. : ONLY_DELTA\n"
   ]
  },
  {
   "cell_type": "code",
   "execution_count": 3,
   "metadata": {},
   "outputs": [],
   "source": [
    "col_to_legend = {0:'Timestep', \n",
    "                 1:'J',\n",
    "                 2:'Theta', \n",
    "                 3:'Sigma', \n",
    "                 4:'Grad_k', \n",
    "                 5:'Grad_sigma', \n",
    "                 6:'Grad_mixed'}"
   ]
  },
  {
   "cell_type": "code",
   "execution_count": 4,
   "metadata": {},
   "outputs": [],
   "source": [
    "COL_PARAM_TYPE = 0           \n",
    "COL_PARAM_THETA = 1\n",
    "COL_PARAM_SIGMA = 2\n",
    "COL_PARAM_ALPHA_SIGMA = 3\n",
    "COL_PARAM_ITERATIONS = 4\n",
    "COL_PARAM_EPS = 5\n",
    "COL_PARAM_FILENAME = 6\n",
    "COLS = ['LAMBDA', 'THETA', 'SIGMA', 'ALPHA_SIGMA', 'MAX_ITERATIONS', 'EPS', 'FILENAME']"
   ]
  },
  {
   "cell_type": "code",
   "execution_count": 5,
   "metadata": {},
   "outputs": [],
   "source": [
    "def load_dataframe(folder):\n",
    "    experiments = []\n",
    "    for experiment in glob.glob(os.path.join(folder, '*_params.json')):\n",
    "        with open(experiment, 'r') as f:\n",
    "            params = json.load(f)\n",
    "\n",
    "        experiments.append({k.upper():i for k,i in params.items()})\n",
    "    experiments_df = pd.DataFrame(experiments)\n",
    "    \n",
    "    return experiments_df"
   ]
  },
  {
   "cell_type": "code",
   "execution_count": 6,
   "metadata": {},
   "outputs": [],
   "source": [
    "def load_from_dataframe(df):\n",
    "    return [np.load(f) for f in df['FILENAME'].values]\n",
    "        "
   ]
  },
  {
   "cell_type": "code",
   "execution_count": 7,
   "metadata": {},
   "outputs": [],
   "source": [
    "def filter_experiments(**kwargs):\n",
    "    df_filtered = kwargs['df']\n",
    "    for k,v in kwargs.items():\n",
    "        if v is not None:\n",
    "            try:\n",
    "                if isinstance(v, list):\n",
    "                    df_filtered = df_filtered[df_filtered[k.upper()].isin(v)]\n",
    "                else:\n",
    "                    df_filtered = df_filtered[df_filtered[k.upper()] == v]\n",
    "            except:\n",
    "                pass\n",
    "    return df_filtered"
   ]
  },
  {
   "cell_type": "code",
   "execution_count": 8,
   "metadata": {},
   "outputs": [],
   "source": [
    "def my_plot(**kwargs):\n",
    "    data_params = filter_experiments(**kwargs)\n",
    "    data_params = data_params.sort_values(by=list(data_params.columns))\n",
    "\n",
    "    data = load_from_dataframe(data_params)\n",
    "\n",
    "    plt.rcParams[\"figure.figsize\"] = (15,13)\n",
    "    \n",
    "    def plot_lines(**kwargs):\n",
    "        if 'max_t' in kwargs:\n",
    "            MAX_T = kwargs['max_t']\n",
    "        else:\n",
    "            MAX_T = -1\n",
    "\n",
    "        if isinstance(kwargs['value'], list):\n",
    "            params = kwargs\n",
    "            ll = len(kwargs['value'])\n",
    "            i = 1\n",
    "            for v in kwargs['value']:\n",
    "                plt.subplot((ll + 1)//2, 2, i)\n",
    "                i+=1\n",
    "                params['value'] = v\n",
    "                plot_lines(**params)\n",
    "        else:\n",
    "            for d in data:\n",
    "                x = d[0:MAX_T,COL_T]\n",
    "                y = d[0:MAX_T,kwargs['value']]\n",
    "                plt.plot(x, y)\n",
    "                plt.xlabel('Timesteps')\n",
    "                plt.ylabel(col_to_legend[kwargs['value']])\n",
    "                plt.title(col_to_legend[kwargs['value']])\n",
    "\n",
    "    plot_lines(**kwargs)\n",
    "    \n",
    "    # Build legend\n",
    "    \n",
    "    free_vars = []\n",
    "    for k,v in kwargs.items():\n",
    "        if v is None or (k.upper() in data_params.columns and isinstance(v, list)):\n",
    "            free_vars.append(k)\n",
    "\n",
    "    free_vars = [s.upper() for s in free_vars]\n",
    "\n",
    "    legend = [' '.join(map(lambda x : ': '.join(x), zip(data_params.loc[:,free_vars].columns.values, s))) for s in data_params.loc[:,free_vars].values]\n",
    "\n",
    "    plt.legend(legend, bbox_to_anchor=(1.05, 1), loc=2, borderaxespad=0.)\n",
    "\n",
    "        "
   ]
  },
  {
   "cell_type": "code",
   "execution_count": null,
   "metadata": {},
   "outputs": [],
   "source": []
  },
  {
   "cell_type": "code",
   "execution_count": 9,
   "metadata": {},
   "outputs": [],
   "source": [
    "BASE_FOLDER = 'experiments_lambda_new'\n",
    "\n",
    "experiments_df = load_dataframe(BASE_FOLDER)"
   ]
  },
  {
   "cell_type": "code",
   "execution_count": 11,
   "metadata": {
    "scrolled": false
   },
   "outputs": [
    {
     "data": {
      "image/png": "[encoded data removed]",
      "text/plain": [
       "<matplotlib.figure.Figure at 0x10b3f4c88>"
      ]
     },
     "metadata": {},
     "output_type": "display_data"
    }
   ],
   "source": [
    "my_plot(lambda_coeff=None, \n",
    "        theta='-0.1', \n",
    "        alphaSigma = ['0.001'], \n",
    "        sigma='1',\n",
    "        value=[COL_J, COL_THETA, COL_SIGMA], \n",
    "        max_t=-1,\n",
    "        df = experiments_df)"
   ]
  },
  {
   "cell_type": "code",
   "execution_count": null,
   "metadata": {},
   "outputs": [],
   "source": []
  },
  {
   "cell_type": "code",
   "execution_count": null,
   "metadata": {},
   "outputs": [],
   "source": []
  },
  {
   "cell_type": "code",
   "execution_count": null,
   "metadata": {},
   "outputs": [],
   "source": []
  },
  {
   "cell_type": "code",
   "execution_count": null,
   "metadata": {},
   "outputs": [],
   "source": []
  },
  {
   "cell_type": "code",
   "execution_count": null,
   "metadata": {},
   "outputs": [],
   "source": []
  },
  {
   "cell_type": "code",
   "execution_count": null,
   "metadata": {},
   "outputs": [],
   "source": []
  },
  {
   "cell_type": "code",
   "execution_count": null,
   "metadata": {},
   "outputs": [],
   "source": []
  },
  {
   "cell_type": "code",
   "execution_count": null,
   "metadata": {},
   "outputs": [],
   "source": []
  },
  {
   "cell_type": "code",
   "execution_count": null,
   "metadata": {},
   "outputs": [],
   "source": []
  },
  {
   "cell_type": "code",
   "execution_count": null,
   "metadata": {},
   "outputs": [],
   "source": []
  },
  {
   "cell_type": "code",
   "execution_count": null,
   "metadata": {},
   "outputs": [],
   "source": []
  },
  {
   "cell_type": "code",
   "execution_count": null,
   "metadata": {},
   "outputs": [],
   "source": []
  },
  {
   "cell_type": "code",
   "execution_count": null,
   "metadata": {},
   "outputs": [],
   "source": []
  },
  {
   "cell_type": "code",
   "execution_count": null,
   "metadata": {},
   "outputs": [],
   "source": []
  },
  {
   "cell_type": "code",
   "execution_count": null,
   "metadata": {},
   "outputs": [],
   "source": []
  },
  {
   "cell_type": "code",
   "execution_count": null,
   "metadata": {},
   "outputs": [],
   "source": []
  },
  {
   "cell_type": "code",
   "execution_count": null,
   "metadata": {},
   "outputs": [],
   "source": []
  },
  {
   "cell_type": "code",
   "execution_count": null,
   "metadata": {},
   "outputs": [],
   "source": []
  },
  {
   "cell_type": "code",
   "execution_count": null,
   "metadata": {},
   "outputs": [],
   "source": []
  },
  {
   "cell_type": "code",
   "execution_count": null,
   "metadata": {},
   "outputs": [],
   "source": []
  },
  {
   "cell_type": "code",
   "execution_count": null,
   "metadata": {},
   "outputs": [],
   "source": []
  },
  {
   "cell_type": "code",
   "execution_count": null,
   "metadata": {},
   "outputs": [],
   "source": []
  },
  {
   "cell_type": "code",
   "execution_count": null,
   "metadata": {},
   "outputs": [],
   "source": []
  },
  {
   "cell_type": "code",
   "execution_count": null,
   "metadata": {},
   "outputs": [],
   "source": []
  },
  {
   "cell_type": "code",
   "execution_count": null,
   "metadata": {},
   "outputs": [],
   "source": []
  },
  {
   "cell_type": "code",
   "execution_count": null,
   "metadata": {},
   "outputs": [],
   "source": []
  },
  {
   "cell_type": "code",
   "execution_count": null,
   "metadata": {},
   "outputs": [],
   "source": []
  },
  {
   "cell_type": "code",
   "execution_count": null,
   "metadata": {},
   "outputs": [],
   "source": []
  },
  {
   "cell_type": "code",
   "execution_count": null,
   "metadata": {},
   "outputs": [],
   "source": []
  },
  {
   "cell_type": "code",
   "execution_count": null,
   "metadata": {},
   "outputs": [],
   "source": []
  },
  {
   "cell_type": "code",
   "execution_count": null,
   "metadata": {},
   "outputs": [],
   "source": []
  },
  {
   "cell_type": "code",
   "execution_count": null,
   "metadata": {},
   "outputs": [],
   "source": []
  },
  {
   "cell_type": "code",
   "execution_count": null,
   "metadata": {},
   "outputs": [],
   "source": [
    "import math\n",
    "lqg_env = lqg1d.LQG1D()\n",
    "\n",
    "#\n",
    "# Compute constants\n",
    "#\n",
    "R = np.asscalar(lqg_env.Q*lqg_env.max_pos**2 + lqg_env.R*lqg_env.max_action**2)\n",
    "M = lqg_env.max_pos\n",
    "gamma = lqg_env.gamma\n",
    "volume = 2*lqg_env.max_action\n",
    "\n",
    "c1 = (1 - lqg_env.gamma)**3 * math.sqrt(2 * math.pi)\n",
    "c2 = lqg_env.gamma * math.sqrt(2 * math.pi) * R * M**2\n",
    "c3 = 2*(1 - lqg_env.gamma) * lqg_env.max_action * R * M**2\n",
    "\n",
    "m = 1"
   ]
  },
  {
   "cell_type": "code",
   "execution_count": null,
   "metadata": {},
   "outputs": [],
   "source": [
    "def get_grad_K(sigma, theta, gamma, R, Q, max_pos):\n",
    "    den = 1 - gamma*(1 + 2*theta + theta**2)\n",
    "    dePdeK = 2*(theta*R/den + gamma*(Q + theta**2*R)*(1+theta)/den**2)\n",
    "    return np.asscalar(- dePdeK*(max_pos**2/3 + gamma*sigma/(1 - gamma)))\n",
    "\n",
    "def get_gradient_sigma(theta, sigma, lambda_coeff):\n",
    "    gradK = lqg_env.grad_K(theta, sigma)\n",
    "    gradSigma = lqg_env.grad_Sigma(theta, sigma)\n",
    "    gradMixed = lqg_env.grad_mixed(theta, sigma)\n",
    "\n",
    "    grad_sigma_alpha_star = sigma**2 * (2*c1*c2*sigma + 3*c1*c3) / (m * (c2 * sigma + c3)**2)\n",
    "    alphaStar = (c1 * sigma**3) / (m * (2 * c2 * sigma + c3))\n",
    "    grad_sigma_norm_grad_theta = 2 * gradK * gradMixed\n",
    "\n",
    "    # Compute the gradient for sigma\n",
    "    grad_local_step = (1/2) * gradK**2 * grad_sigma_alpha_star\n",
    "    grad_far_sighted = (1/2) * alphaStar * grad_sigma_norm_grad_theta\n",
    "\n",
    "    gradDelta = grad_local_step + grad_far_sighted\n",
    "\n",
    "    updateGradSigma = lambda_coeff * gradSigma + (1 - lambda_coeff)*gradDelta\n",
    "\n",
    "    return updateGradSigma\n",
    "\n",
    "def get_obj(theta, sigma, lambda_coeff):\n",
    "    gradK = lqg_env.grad_K(theta, sigma)\n",
    "    alphaStar = (c1 * sigma**3) / (m * (2 * c2 * sigma + c3))\n",
    "    \n",
    "    J = lqg_env.computeJ(theta, sigma)\n",
    "    delta_J = (1/2) * alphaStar * gradK**2\n",
    "\n",
    "    return lambda_coeff * J + (1 - lambda_coeff)*delta_J"
   ]
  },
  {
   "cell_type": "code",
   "execution_count": null,
   "metadata": {},
   "outputs": [],
   "source": [
    "def plot_obj(init_theta, lambda_coeff):\n",
    "    sigma = np.linspace(0, 70, 1000)\n",
    "    Js = [get_obj(init_theta, s, lambda_coeff) for s in sigma]\n",
    "\n",
    "    \n",
    "    #arg_min = np.abs(grads).argmin()\n",
    "    #print('min |gradient|: ', grads[arg_min], ' @ sigma=', sigma[arg_min])\n",
    "    \n",
    "    plt.rcParams[\"figure.figsize\"] = (8,5)\n",
    "    plt.plot(sigma, Js)\n",
    "    plt.xlabel('Sigma')\n",
    "    plt.ylabel('J (theta\\')')"
   ]
  },
  {
   "cell_type": "code",
   "execution_count": null,
   "metadata": {},
   "outputs": [],
   "source": [
    "def plot_gradient_sigma(init_theta, lambda_coeff):\n",
    "    sigma = np.linspace(0, 70, 1000)\n",
    "    grads = [get_gradient_sigma(init_theta, s, lambda_coeff) for s in sigma]\n",
    "\n",
    "    \n",
    "    arg_min = np.abs(grads).argmin()\n",
    "    print('min |gradient|: ', grads[arg_min], ' @ sigma=', sigma[arg_min])\n",
    "    \n",
    "    plt.rcParams[\"figure.figsize\"] = (8,5)\n",
    "    plt.plot(sigma, grads)\n",
    "    plt.xlabel('Sigma')\n",
    "    plt.ylabel('Gradient')"
   ]
  },
  {
   "cell_type": "code",
   "execution_count": null,
   "metadata": {},
   "outputs": [],
   "source": [
    "plot_obj(-0.4, 0.005)"
   ]
  },
  {
   "cell_type": "code",
   "execution_count": null,
   "metadata": {
    "scrolled": true
   },
   "outputs": [],
   "source": [
    "plot_gradient_sigma(-0.5, 0.99)"
   ]
  },
  {
   "cell_type": "code",
   "execution_count": null,
   "metadata": {},
   "outputs": [],
   "source": [
    "@numba.jit(nopython=True)\n",
    "def add_jit():\n",
    "    x = []\n",
    "    for i in range(100000):\n",
    "        e = abs(i*i - 5*i) + 1\n",
    "        f = e - math.log(e)\n",
    "        x.append(f)\n",
    "\n",
    "@numba.jit\n",
    "def calc_K(theta, sigma, gamma, R, Q, max_pos):\n",
    "    den = 1 - gamma*(1 + 2*theta + theta**2)\n",
    "    dePdeK = 2*(theta*R/den + gamma*(Q + theta**2*R)*(1+theta)/den**2)\n",
    "    return - dePdeK*(max_pos**2/3 + gamma*sigma/(1 - gamma))\n",
    "\n",
    "@numba.jit\n",
    "def calc_P(K, Q, R, gamma):\n",
    "    P = (Q + K* R * K) / (1 - gamma * (1 + 2 * K + K**2))\n",
    "    return P\n",
    "\n",
    "@numba.jit\n",
    "def calc_J(K, Q, R, gamma, sigma, max_pos):\n",
    "    P = calc_P(K, Q, R, gamma)\n",
    "    W =  (1 / (1 - gamma)) * sigma * (R + gamma * B*P*B)\n",
    "        \n",
    "    return min(0,-max_pos**2*P/3 - W)\n",
    "\n",
    "@numba.jit\n",
    "def calc_sigma(K, Q, R, gamma):\n",
    "    P = calc_P(K, Q, R, gamma)\n",
    "    return -(R + gamma*P)/(1 - gamma)\n",
    "\n",
    "@numba.jit\n",
    "def calc_mixed(gamma, theta, R, Q):\n",
    "    den = 1 - gamma*(1 + 2*theta + theta**2)\n",
    "    dePdeK = 2*(theta*R/den + gamma*(Q + theta**2*R)*(1+theta)/den**2)\n",
    "\n",
    "    return -dePdeK*gamma/(1 - gamma)"
   ]
  },
  {
   "cell_type": "code",
   "execution_count": null,
   "metadata": {},
   "outputs": [],
   "source": [
    "env = lqg1d.LQG1D()"
   ]
  },
  {
   "cell_type": "code",
   "execution_count": null,
   "metadata": {},
   "outputs": [],
   "source": [
    "%%time\n",
    "t1 = [calc_K(t, s, env.gamma, np.asscalar(env.R), np.asscalar(env.Q), env.max_pos) for t in np.linspace(-0.6, -0.1, 1000) for s in np.linspace(0.1, 30, 1000)]"
   ]
  },
  {
   "cell_type": "code",
   "execution_count": null,
   "metadata": {},
   "outputs": [],
   "source": [
    "%%time\n",
    "t2 = [env.grad_K(t, s) for t in np.linspace(-0.6, -0.1, 1000) for s in np.linspace(0.1, 30, 1000)]"
   ]
  },
  {
   "cell_type": "code",
   "execution_count": null,
   "metadata": {},
   "outputs": [],
   "source": [
    "assert np.all(np.isclose(t1, t2))"
   ]
  },
  {
   "cell_type": "code",
   "execution_count": null,
   "metadata": {},
   "outputs": [],
   "source": [
    "v1 = [calc_P(t, np.asscalar(env.Q), np.asscalar(env.R), env.gamma) for t in np.linspace(-0.6, -0.1, 1000)]\n",
    "v2 = [np.asscalar(env._computeP2(t)) for t in np.linspace(-0.6, -0.1, 1000)]\n",
    "assert np.all(np.isclose(v1, v2))"
   ]
  },
  {
   "cell_type": "code",
   "execution_count": null,
   "metadata": {},
   "outputs": [],
   "source": []
  },
  {
   "cell_type": "code",
   "execution_count": null,
   "metadata": {},
   "outputs": [],
   "source": []
  },
  {
   "cell_type": "code",
   "execution_count": null,
   "metadata": {},
   "outputs": [],
   "source": []
  },
  {
   "cell_type": "code",
   "execution_count": null,
   "metadata": {},
   "outputs": [],
   "source": []
  },
  {
   "cell_type": "code",
   "execution_count": null,
   "metadata": {},
   "outputs": [],
   "source": []
  },
  {
   "cell_type": "code",
   "execution_count": null,
   "metadata": {},
   "outputs": [],
   "source": []
  },
  {
   "cell_type": "code",
   "execution_count": null,
   "metadata": {},
   "outputs": [],
   "source": []
  },
  {
   "cell_type": "code",
   "execution_count": null,
   "metadata": {},
   "outputs": [],
   "source": []
  },
  {
   "cell_type": "code",
   "execution_count": null,
   "metadata": {},
   "outputs": [],
   "source": []
  },
  {
   "cell_type": "code",
   "execution_count": null,
   "metadata": {},
   "outputs": [],
   "source": []
  },
  {
   "cell_type": "code",
   "execution_count": null,
   "metadata": {},
   "outputs": [],
   "source": []
  },
  {
   "cell_type": "code",
   "execution_count": null,
   "metadata": {},
   "outputs": [],
   "source": []
  },
  {
   "cell_type": "code",
   "execution_count": null,
   "metadata": {},
   "outputs": [],
   "source": []
  }
 ],
 "metadata": {
  "kernelspec": {
   "display_name": "Python 3",
   "language": "python",
   "name": "python3"
  },
  "language_info": {
   "codemirror_mode": {
    "name": "ipython",
    "version": 3
   },
   "file_extension": ".py",
   "mimetype": "text/x-python",
   "name": "python",
   "nbconvert_exporter": "python",
   "pygments_lexer": "ipython3",
   "version": "3.6.0"
  }
 },
 "nbformat": 4,
 "nbformat_minor": 2
}
